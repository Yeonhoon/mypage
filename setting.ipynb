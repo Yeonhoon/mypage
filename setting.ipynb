{
 "metadata": {
  "language_info": {
   "codemirror_mode": {
    "name": "ipython",
    "version": 3
   },
   "file_extension": ".py",
   "mimetype": "text/x-python",
   "name": "python",
   "nbconvert_exporter": "python",
   "pygments_lexer": "ipython3",
   "version": 3
  },
  "orig_nbformat": 2
 },
 "nbformat": 4,
 "nbformat_minor": 2,
 "cells": [
  {
   "source": [
    "### 깃허브"
   ],
   "cell_type": "markdown",
   "metadata": {}
  },
  {
   "cell_type": "code",
   "execution_count": null,
   "metadata": {},
   "outputs": [],
   "source": [
    "## 깃허브\n",
    "git config --global user.name 'yeonhoon'\n",
    "git config --global user.email 'aidenjang94@gmail.com'\n",
    "git add 올릴 파일이나 폴더\n",
    "git commit -m 'first commit'\n",
    "git remote add origin https://github.com/Yeonhoon/mypage.git\n",
    "git push -u origin master"
   ]
  }
 ]
}