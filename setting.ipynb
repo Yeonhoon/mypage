{
 "metadata": {
  "language_info": {
   "codemirror_mode": {
    "name": "ipython",
    "version": 3
   },
   "file_extension": ".py",
   "mimetype": "text/x-python",
   "name": "python",
   "nbconvert_exporter": "python",
   "pygments_lexer": "ipython3",
   "version": "3.8.5"
  },
  "orig_nbformat": 2,
  "kernelspec": {
   "name": "python385jvsc74a57bd01a6ffe0016fb8351c98343fe74155906e1867cb5b462fba833495bf38fafd988",
   "display_name": "Python 3.8.5 64-bit ('mypage': venv)"
  }
 },
 "nbformat": 4,
 "nbformat_minor": 2,
 "cells": [
  {
   "source": [
    "### 깃허브 초기 설정방법"
   ],
   "cell_type": "markdown",
   "metadata": {}
  },
  {
   "source": [
    "> git config --global user.name 'yeonhoon'\n",
    "\n",
    "> git config --global user.email 'aidenjang94@gmail.com'\n"
   ],
   "cell_type": "markdown",
   "metadata": {}
  },
  {
   "source": [
    "### push 하기\n",
    "\n",
    "> git init\n",
    "\n",
    "> git add 올릴 파일이나 폴더\n",
    "\n",
    "> git commit -m 'first commit'\n",
    "\n",
    "> git remote add origin https://github.com/Yeonhoon/mypage.git\n",
    "\n",
    "> git push -u origin master"
   ],
   "cell_type": "markdown",
   "metadata": {}
  },
  {
   "source": [
    "### Pull 하기"
   ],
   "cell_type": "markdown",
   "metadata": {}
  }
 ]
}