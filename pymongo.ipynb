{
 "metadata": {
  "language_info": {
   "codemirror_mode": {
    "name": "ipython",
    "version": 3
   },
   "file_extension": ".py",
   "mimetype": "text/x-python",
   "name": "python",
   "nbconvert_exporter": "python",
   "pygments_lexer": "ipython3",
   "version": "3.8.5"
  },
  "orig_nbformat": 2,
  "kernelspec": {
   "name": "python385jvsc74a57bd01a6ffe0016fb8351c98343fe74155906e1867cb5b462fba833495bf38fafd988",
   "display_name": "Python 3.8.5 64-bit ('mypage')"
  }
 },
 "nbformat": 4,
 "nbformat_minor": 2,
 "cells": [
  {
   "cell_type": "code",
   "execution_count": 4,
   "metadata": {},
   "outputs": [],
   "source": [
    "import pymongo"
   ]
  },
  {
   "cell_type": "code",
   "execution_count": 5,
   "metadata": {},
   "outputs": [],
   "source": [
    "username = ''\n",
    "password= ''\n",
    "id_pddress= = ''localhost'\n",
    "connection = pymongo.MongoClient())\n",
    "cconnection = pymongo.MongoClient('mongodb://%s'%(ip_address))\n",
    "\n",
    "blog_session_db = coconnection.blog_session_db\n",
    "blog_ab = bblog_session_db.blog_ab"
   ]
  },
  {
   "cell_type": "code",
   "execution_count": 6,
   "metadata": {},
   "outputs": [
    {
     "output_type": "execute_result",
     "data": {
      "text/plain": [
       "{'ismaster': True,\n",
       " 'maxBsonObjectSize': 16777216,\n",
       " 'maxMessageSizeBytes': 48000000,\n",
       " 'maxWriteBatchSize': 100000,\n",
       " 'localTime': datetime.datetime(2021, 5, 5, 0, 15, 5, 939000),\n",
       " 'logicalSessionTimeoutMinutes': 30,\n",
       " 'minWireVersion': 0,\n",
       " 'maxWireVersion': 6,\n",
       " 'readOnly': False,\n",
       " 'ok': 1.0}"
      ]
     },
     "metadata": {},
     "execution_count": 6
    }
   ],
   "source": [
    "connection.admin.command('ismaster')"
   ]
  },
  {
   "cell_type": "code",
   "execution_count": null,
   "metadata": {},
   "outputs": [],
   "source": []
  }
 ]
}